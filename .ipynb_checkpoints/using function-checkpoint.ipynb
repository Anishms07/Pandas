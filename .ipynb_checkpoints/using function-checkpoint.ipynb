{
 "cells": [
  {
   "cell_type": "code",
   "execution_count": 25,
   "id": "486ef734",
   "metadata": {},
   "outputs": [
    {
     "name": "stdout",
     "output_type": "stream",
     "text": [
      "+----+-----------+-------+-----------+---------+------------+\n",
      "|    | tickers   |   EPS |   Revenue |   Price | People     |\n",
      "+====+===========+=======+===========+=========+============+\n",
      "|  0 | GOOGL     | 27.82 |        87 |     845 | larry page |\n",
      "+----+-----------+-------+-----------+---------+------------+\n",
      "|  1 | WMT       |  4.61 |       484 |      65 | n.a.       |\n",
      "+----+-----------+-------+-----------+---------+------------+\n",
      "|  2 | MSFT      | -1    |        85 |      64 | bill gates |\n",
      "+----+-----------+-------+-----------+---------+------------+\n"
     ]
    }
   ],
   "source": [
    "import pandas as pd\n",
    "from tabulate import tabulate\n",
    "names=['tickers','EPS','Revenue','Price','People']\n",
    "# Read the CSV file into a Pandas DataFrame\n",
    "df = pd.read_csv(\"C:\\\\Users\\\\ANISH M S\\\\Downloads\\\\stock_data.csv\",nrows=3)\n",
    "\n",
    "# Format the DataFrame using tabulate and print\n",
    "print(tabulate(df, headers=['tickers','EPS','Revenue','Price','People'],tablefmt='grid'))\n"
   ]
  },
  {
   "cell_type": "code",
   "execution_count": 1,
   "id": "2dd90d4a",
   "metadata": {},
   "outputs": [
    {
     "name": "stdout",
     "output_type": "stream",
     "text": [
      "+----+-----------+--------+-----------+---------+---------------+\n",
      "|    | tickers   |    EPS |   Revenue |   Price | People        |\n",
      "+====+===========+========+===========+=========+===============+\n",
      "|  0 | GOOGL     |  27.82 |        87 |     845 | larry page    |\n",
      "+----+-----------+--------+-----------+---------+---------------+\n",
      "|  1 | WMT       |   4.61 |       484 |      65 | nan           |\n",
      "+----+-----------+--------+-----------+---------+---------------+\n",
      "|  2 | MSFT      |  -1    |        85 |      64 | bill gates    |\n",
      "+----+-----------+--------+-----------+---------+---------------+\n",
      "|  3 | RIL       | nan    |        50 |    1023 | mukesh ambani |\n",
      "+----+-----------+--------+-----------+---------+---------------+\n",
      "|  4 | TATA      |   5.6  |        -1 |     nan | ratan tata    |\n",
      "+----+-----------+--------+-----------+---------+---------------+\n"
     ]
    }
   ],
   "source": [
    "import pandas as pd\n",
    "from tabulate import tabulate\n",
    "names=['tickers','EPS','Revenue','Price','People']\n",
    "# Read the CSV file into a Pandas DataFrame\n",
    "df = pd.read_csv(\"C:\\\\Users\\\\ANISH M S\\\\Downloads\\\\stock_data.csv\",na_values=[\"not available\",\"n.a.\"])\n",
    "\n",
    "# Format the DataFrame using tabulate and print\n",
    "print(tabulate(df, headers=['tickers','EPS','Revenue','Price','People'],tablefmt='grid'))"
   ]
  },
  {
   "cell_type": "code",
   "execution_count": 4,
   "id": "d194c612",
   "metadata": {},
   "outputs": [],
   "source": [
    "df.to_csv('C:\\\\Users\\\\ANISH M S\\\\Downloads\\\\new.csv',index=False)"
   ]
  },
  {
   "cell_type": "code",
   "execution_count": 5,
   "id": "d0d3f13f",
   "metadata": {},
   "outputs": [],
   "source": [
    "df.to_csv('C:\\\\Users\\\\ANISH M S\\\\Downloads\\\\new.csv',index=False,columns=['tickers','eps'])"
   ]
  },
  {
   "cell_type": "code",
   "execution_count": null,
   "id": "bab9329b",
   "metadata": {},
   "outputs": [],
   "source": []
  },
  {
   "cell_type": "code",
   "execution_count": null,
   "id": "13ef6eb3",
   "metadata": {},
   "outputs": [],
   "source": []
  }
 ],
 "metadata": {
  "kernelspec": {
   "display_name": "Python 3 (ipykernel)",
   "language": "python",
   "name": "python3"
  },
  "language_info": {
   "codemirror_mode": {
    "name": "ipython",
    "version": 3
   },
   "file_extension": ".py",
   "mimetype": "text/x-python",
   "name": "python",
   "nbconvert_exporter": "python",
   "pygments_lexer": "ipython3",
   "version": "3.11.3"
  }
 },
 "nbformat": 4,
 "nbformat_minor": 5
}
