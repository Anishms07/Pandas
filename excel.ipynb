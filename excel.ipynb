{
 "cells": [
  {
   "cell_type": "code",
   "execution_count": 2,
   "id": "2f4af2cc",
   "metadata": {},
   "outputs": [
    {
     "name": "stdout",
     "output_type": "stream",
     "text": [
      "+----+-----------+---------------+-----------+---------+---------------+\n",
      "|    | tickers   | eps           |   revenue | price   | people        |\n",
      "+====+===========+===============+===========+=========+===============+\n",
      "|  0 | GOOGL     | 27.82         |        87 | 845     | larry page    |\n",
      "+----+-----------+---------------+-----------+---------+---------------+\n",
      "|  1 | WMT       | 4.61          |       484 | 65      | sam walton    |\n",
      "+----+-----------+---------------+-----------+---------+---------------+\n",
      "|  2 | MSFT      | -1            |        85 | 64      | bill gates    |\n",
      "+----+-----------+---------------+-----------+---------+---------------+\n",
      "|  3 | RIL       | not available |        50 | 1023    | mukesh ambani |\n",
      "+----+-----------+---------------+-----------+---------+---------------+\n",
      "|  4 | TATA      | 5.6           |        -1 | n.a.    | ratan tata    |\n",
      "+----+-----------+---------------+-----------+---------+---------------+\n"
     ]
    }
   ],
   "source": [
    "import pandas as pd\n",
    "from tabulate import tabulate\n",
    "\n",
    "def convert_pepole_cell(cell):\n",
    "    if cell==\"n.a.\":\n",
    "        return 'sam walton'\n",
    "    return cell\n",
    "df=pd.read_excel('C:\\\\Users\\\\ANISH M S\\\\Downloads\\\\stock_data.xlsx','Sheet1',converters={\n",
    "    'people':convert_pepole_cell\n",
    "})\n",
    "print(tabulate(df,headers='keys',tablefmt='grid'))"
   ]
  },
  {
   "cell_type": "code",
   "execution_count": 4,
   "id": "655bd6b0",
   "metadata": {},
   "outputs": [
    {
     "data": {
      "text/plain": [
       "0    GOOGL\n",
       "1      WMT\n",
       "2     MSFT\n",
       "3     RIL \n",
       "4     TATA\n",
       "Name: tickers, dtype: object"
      ]
     },
     "execution_count": 4,
     "metadata": {},
     "output_type": "execute_result"
    }
   ],
   "source": [
    "df[\"tickers\"]"
   ]
  },
  {
   "cell_type": "code",
   "execution_count": 11,
   "id": "2110a693",
   "metadata": {},
   "outputs": [
    {
     "data": {
      "text/plain": [
       "tickers         GOOGL\n",
       "eps             27.82\n",
       "revenue            87\n",
       "price             845\n",
       "people     larry page\n",
       "Name: 0, dtype: object"
      ]
     },
     "execution_count": 11,
     "metadata": {},
     "output_type": "execute_result"
    }
   ],
   "source": [
    "df.iloc[0]"
   ]
  },
  {
   "cell_type": "code",
   "execution_count": 13,
   "id": "fb72eb3d",
   "metadata": {},
   "outputs": [],
   "source": [
    "df1=df[df.tickers==\"GOOGL\"]"
   ]
  },
  {
   "cell_type": "code",
   "execution_count": 14,
   "id": "1c77da37",
   "metadata": {},
   "outputs": [
    {
     "data": {
      "text/html": [
       "<div>\n",
       "<style scoped>\n",
       "    .dataframe tbody tr th:only-of-type {\n",
       "        vertical-align: middle;\n",
       "    }\n",
       "\n",
       "    .dataframe tbody tr th {\n",
       "        vertical-align: top;\n",
       "    }\n",
       "\n",
       "    .dataframe thead th {\n",
       "        text-align: right;\n",
       "    }\n",
       "</style>\n",
       "<table border=\"1\" class=\"dataframe\">\n",
       "  <thead>\n",
       "    <tr style=\"text-align: right;\">\n",
       "      <th></th>\n",
       "      <th>tickers</th>\n",
       "      <th>eps</th>\n",
       "      <th>revenue</th>\n",
       "      <th>price</th>\n",
       "      <th>people</th>\n",
       "    </tr>\n",
       "  </thead>\n",
       "  <tbody>\n",
       "    <tr>\n",
       "      <th>0</th>\n",
       "      <td>GOOGL</td>\n",
       "      <td>27.82</td>\n",
       "      <td>87</td>\n",
       "      <td>845</td>\n",
       "      <td>larry page</td>\n",
       "    </tr>\n",
       "  </tbody>\n",
       "</table>\n",
       "</div>"
      ],
      "text/plain": [
       "  tickers    eps  revenue price      people\n",
       "0   GOOGL  27.82       87   845  larry page"
      ]
     },
     "execution_count": 14,
     "metadata": {},
     "output_type": "execute_result"
    }
   ],
   "source": [
    "df1"
   ]
  },
  {
   "cell_type": "code",
   "execution_count": null,
   "id": "043ed299",
   "metadata": {},
   "outputs": [],
   "source": []
  }
 ],
 "metadata": {
  "kernelspec": {
   "display_name": "Python 3 (ipykernel)",
   "language": "python",
   "name": "python3"
  },
  "language_info": {
   "codemirror_mode": {
    "name": "ipython",
    "version": 3
   },
   "file_extension": ".py",
   "mimetype": "text/x-python",
   "name": "python",
   "nbconvert_exporter": "python",
   "pygments_lexer": "ipython3",
   "version": "3.11.3"
  }
 },
 "nbformat": 4,
 "nbformat_minor": 5
}
