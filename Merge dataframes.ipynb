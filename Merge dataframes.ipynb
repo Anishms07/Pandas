{
 "cells": [
  {
   "cell_type": "code",
   "execution_count": 5,
   "id": "8782334e",
   "metadata": {},
   "outputs": [
    {
     "name": "stdout",
     "output_type": "stream",
     "text": [
      "+----+----------+---------------+\n",
      "|    | city     |   temperature |\n",
      "+====+==========+===============+\n",
      "|  0 | new york |            32 |\n",
      "+----+----------+---------------+\n",
      "|  1 | chicago  |            45 |\n",
      "+----+----------+---------------+\n",
      "|  2 | orlando  |            30 |\n",
      "+----+----------+---------------+\n"
     ]
    }
   ],
   "source": [
    "import pandas as pd\n",
    "from tabulate import tabulate\n",
    "india_wea={\n",
    "    'city':[\"new york\",\"chicago\",\"orlando\"],\n",
    "    'temperature':[32,45,30]\n",
    "}\n",
    "\n",
    "df1=pd.DataFrame(india_wea)\n",
    "print(tabulate(df1,headers='keys',tablefmt='grid'))"
   ]
  },
  {
   "cell_type": "code",
   "execution_count": 7,
   "id": "7ab7bf98",
   "metadata": {},
   "outputs": [
    {
     "name": "stdout",
     "output_type": "stream",
     "text": [
      "+----+----------+------------+\n",
      "|    | city     |   humidity |\n",
      "+====+==========+============+\n",
      "|  0 | new york |         80 |\n",
      "+----+----------+------------+\n",
      "|  1 | chicago  |         60 |\n",
      "+----+----------+------------+\n",
      "|  2 | orlando  |         78 |\n",
      "+----+----------+------------+\n"
     ]
    }
   ],
   "source": [
    "import pandas as pd\n",
    "from tabulate import tabulate\n",
    "us_wea={\n",
    "    'city':[\"new york\",\"chicago\",\"orlando\"],\n",
    "    'humidity':[80,60,78]\n",
    "}\n",
    "df2=pd.DataFrame(us_wea)\n",
    "print(tabulate(df2,headers='keys',tablefmt='grid'))"
   ]
  },
  {
   "cell_type": "code",
   "execution_count": 11,
   "id": "9263fe74",
   "metadata": {},
   "outputs": [
    {
     "name": "stdout",
     "output_type": "stream",
     "text": [
      "       city  temperature  humidity\n",
      "0  new york           32        80\n",
      "1   chicago           45        60\n",
      "2   orlando           30        78\n"
     ]
    }
   ],
   "source": [
    "new_df=pd.merge(df1,df2,on='city')\n",
    "print(new_df)"
   ]
  },
  {
   "cell_type": "code",
   "execution_count": 17,
   "id": "22dcd388",
   "metadata": {},
   "outputs": [
    {
     "name": "stdout",
     "output_type": "stream",
     "text": [
      "       city  temperature_x  humidity_x  humidity_y  temperature_y\n",
      "0  new york             32          80          81             32\n",
      "1   chicago             45          60          65             45\n",
      "2   orlando             30          78          78             30\n"
     ]
    }
   ],
   "source": [
    "import pandas as pd\n",
    "from tabulate import tabulate\n",
    "india_wea={\n",
    "    'city':[\"new york\",\"chicago\",\"orlando\"],\n",
    "    'temperature':[32,45,30],\n",
    "    'humidity':[80,60,78]\n",
    "}\n",
    "df1=pd.DataFrame(india_wea)\n",
    "df2=pd.DataFrame(us_wea)\n",
    "us_wea={\n",
    "    'city':[\"new york\",\"chicago\",\"orlando\"],\n",
    "    'humidity':[81,65,78],\n",
    "    'temperature':[32,45,30]\n",
    "}\n",
    "new_df=pd.merge(df1,df2,on='city')\n",
    "print(new_df)"
   ]
  },
  {
   "cell_type": "code",
   "execution_count": 16,
   "id": "a1fad05c",
   "metadata": {},
   "outputs": [
    {
     "name": "stdout",
     "output_type": "stream",
     "text": [
      "       city  temperature_left  humidity_left  humidity_right  \\\n",
      "0  new york                32             80              80   \n",
      "1   chicago                45             60              60   \n",
      "2   orlando                30             78              78   \n",
      "\n",
      "   temperature_right  \n",
      "0                 32  \n",
      "1                 45  \n",
      "2                 30  \n"
     ]
    }
   ],
   "source": [
    "new_df=pd.merge(df1,df2,on='city',suffixes=('_left','_right'))\n",
    "print(new_df)"
   ]
  },
  {
   "cell_type": "code",
   "execution_count": null,
   "id": "50aacd53",
   "metadata": {},
   "outputs": [],
   "source": []
  }
 ],
 "metadata": {
  "kernelspec": {
   "display_name": "Python 3 (ipykernel)",
   "language": "python",
   "name": "python3"
  },
  "language_info": {
   "codemirror_mode": {
    "name": "ipython",
    "version": 3
   },
   "file_extension": ".py",
   "mimetype": "text/x-python",
   "name": "python",
   "nbconvert_exporter": "python",
   "pygments_lexer": "ipython3",
   "version": "3.11.3"
  }
 },
 "nbformat": 4,
 "nbformat_minor": 5
}
