{
 "cells": [
  {
   "cell_type": "code",
   "execution_count": 7,
   "id": "925c9dd9",
   "metadata": {},
   "outputs": [
    {
     "name": "stdout",
     "output_type": "stream",
     "text": [
      "+----+----------+---------------+------------+\n",
      "|    | city     |   temperature |   humidity |\n",
      "+====+==========+===============+============+\n",
      "|  0 | new york |            21 |         68 |\n",
      "+----+----------+---------------+------------+\n",
      "|  1 | chicago  |            14 |         65 |\n",
      "+----+----------+---------------+------------+\n",
      "|  2 | orlando  |            35 |         75 |\n",
      "+----+----------+---------------+------------+\n"
     ]
    }
   ],
   "source": [
    "import pandas as pd\n",
    "from tabulate import tabulate\n",
    "india_wea={\n",
    "    'city':[\"mumbai\",\"delhi\",\"bangalore\"],\n",
    "    'temperature':[32,45,30],\n",
    "    'humidity':[80,60,78]\n",
    "}\n",
    "df1=pd.DataFrame(india_wea)\n",
    "print(tabulate(df,headers='keys',tablefmt='grid'))"
   ]
  },
  {
   "cell_type": "code",
   "execution_count": 8,
   "id": "bce63cb5",
   "metadata": {},
   "outputs": [
    {
     "name": "stdout",
     "output_type": "stream",
     "text": [
      "+----+----------+---------------+------------+\n",
      "|    | city     |   temperature |   humidity |\n",
      "+====+==========+===============+============+\n",
      "|  0 | new york |            21 |         68 |\n",
      "+----+----------+---------------+------------+\n",
      "|  1 | chicago  |            14 |         65 |\n",
      "+----+----------+---------------+------------+\n",
      "|  2 | orlando  |            35 |         75 |\n",
      "+----+----------+---------------+------------+\n"
     ]
    }
   ],
   "source": [
    "import pandas as pd\n",
    "from tabulate import tabulate\n",
    "us_wea={\n",
    "    'city':[\"new york\",\"chicago\",\"orlando\"],\n",
    "    'temperature':[21,14,35],\n",
    "    'humidity':[68,65,75]\n",
    "}\n",
    "df2=pd.DataFrame(us_wea)\n",
    "print(tabulate(df,headers='keys',tablefmt='grid'))"
   ]
  },
  {
   "cell_type": "code",
   "execution_count": 14,
   "id": "4d6ef48b",
   "metadata": {},
   "outputs": [
    {
     "name": "stdout",
     "output_type": "stream",
     "text": [
      "        city  temperature  humidity\n",
      "0     mumbai           32        80\n",
      "1      delhi           45        60\n",
      "2  bangalore           30        78\n",
      "3   new york           21        68\n",
      "4    chicago           14        65\n",
      "5    orlando           35        75\n"
     ]
    }
   ],
   "source": [
    "new_df=pd.concat([df1,df2],ignore_index=True)\n",
    "print(new_df)"
   ]
  },
  {
   "cell_type": "code",
   "execution_count": null,
   "id": "1e924f22",
   "metadata": {},
   "outputs": [],
   "source": []
  }
 ],
 "metadata": {
  "kernelspec": {
   "display_name": "Python 3 (ipykernel)",
   "language": "python",
   "name": "python3"
  },
  "language_info": {
   "codemirror_mode": {
    "name": "ipython",
    "version": 3
   },
   "file_extension": ".py",
   "mimetype": "text/x-python",
   "name": "python",
   "nbconvert_exporter": "python",
   "pygments_lexer": "ipython3",
   "version": "3.11.3"
  }
 },
 "nbformat": 4,
 "nbformat_minor": 5
}
